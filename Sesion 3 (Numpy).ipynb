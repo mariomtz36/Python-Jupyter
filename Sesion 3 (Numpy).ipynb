{
 "cells": [
  {
   "cell_type": "markdown",
   "metadata": {},
   "source": [
    "Ejemplos Numpy"
   ]
  },
  {
   "cell_type": "code",
   "execution_count": 3,
   "metadata": {},
   "outputs": [
    {
     "name": "stdout",
     "output_type": "stream",
     "text": [
      "[[0.61964107 0.58957146 0.31044074 0.52130266 0.03608812 0.73572963\n",
      "  0.30833868 0.42720079 0.37798599 0.43883011]\n",
      " [0.11106199 0.67759095 0.28323588 0.04071984 0.65483052 0.93978071\n",
      "  0.81233755 0.00759806 0.11211271 0.62430523]\n",
      " [0.89799577 0.28303214 0.52718618 0.65258786 0.4611897  0.94085999\n",
      "  0.19717359 0.6315939  0.69858354 0.53868286]\n",
      " [0.08858919 0.17072149 0.35693007 0.40849959 0.16821022 0.62040039\n",
      "  0.27878941 0.35398319 0.67660644 0.9520575 ]\n",
      " [0.13769136 0.7239964  0.14422353 0.47683728 0.51061293 0.7264284\n",
      "  0.07448987 0.50398368 0.21850759 0.14234688]\n",
      " [0.19833648 0.76203406 0.80602616 0.75630562 0.82278849 0.37509021\n",
      "  0.521392   0.07297858 0.17841739 0.26807133]\n",
      " [0.94458889 0.43836053 0.23161836 0.03978866 0.51950512 0.28019322\n",
      "  0.60991252 0.94861994 0.50001695 0.43901295]\n",
      " [0.57189152 0.00536537 0.32654532 0.72978868 0.11050795 0.62254505\n",
      "  0.27380776 0.72568109 0.29097629 0.72421081]\n",
      " [0.83603753 0.34617071 0.1218364  0.55534316 0.47179893 0.41317932\n",
      "  0.15743323 0.18715894 0.0754303  0.28957125]\n",
      " [0.17394715 0.50608471 0.32801221 0.8254959  0.75588935 0.50282504\n",
      "  0.54910135 0.17639923 0.45068821 0.49511085]]\n"
     ]
    }
   ],
   "source": [
    "#Hacer una matriz de números aleatorios de 10 x 10 \n",
    "import numpy as np\n",
    "matrizrandom1 = np.random.rand(10,10)\n",
    "print(matrizrandom1)"
   ]
  },
  {
   "cell_type": "code",
   "execution_count": 5,
   "metadata": {},
   "outputs": [
    {
     "name": "stdout",
     "output_type": "stream",
     "text": [
      "[[ True  True False  True False  True False False False False]\n",
      " [False  True False False  True  True  True False False  True]\n",
      " [ True False  True  True False  True False  True  True  True]\n",
      " [False False False False False  True False False  True  True]\n",
      " [False  True False False  True  True False  True False False]\n",
      " [False  True  True  True  True False  True False False False]\n",
      " [ True False False False  True False  True  True  True False]\n",
      " [ True False False  True False  True False  True False  True]\n",
      " [ True False False  True False False False False False False]\n",
      " [False  True False  True  True  True  True False False False]]\n"
     ]
    }
   ],
   "source": [
    "#Generar una matriz booleana con los valores mayores a .5\n",
    "matrizbooleana1 = (matrizrandom1 > .5)\n",
    "print(matrizbooleana1)"
   ]
  },
  {
   "cell_type": "code",
   "execution_count": 7,
   "metadata": {},
   "outputs": [
    {
     "name": "stdout",
     "output_type": "stream",
     "text": [
      "[[1 1 0 1 0 1 0 0 0 0]\n",
      " [0 1 0 0 1 1 1 0 0 1]\n",
      " [1 0 1 1 0 1 0 1 1 1]\n",
      " [0 0 0 0 0 1 0 0 1 1]\n",
      " [0 1 0 0 1 1 0 1 0 0]\n",
      " [0 1 1 1 1 0 1 0 0 0]\n",
      " [1 0 0 0 1 0 1 1 1 0]\n",
      " [1 0 0 1 0 1 0 1 0 1]\n",
      " [1 0 0 1 0 0 0 0 0 0]\n",
      " [0 1 0 1 1 1 1 0 0 0]]\n",
      "[[0.61964107 0.58957146 0.         0.52130266 0.         0.73572963\n",
      "  0.         0.         0.         0.        ]\n",
      " [0.         0.67759095 0.         0.         0.65483052 0.93978071\n",
      "  0.81233755 0.         0.         0.62430523]\n",
      " [0.89799577 0.         0.52718618 0.65258786 0.         0.94085999\n",
      "  0.         0.6315939  0.69858354 0.53868286]\n",
      " [0.         0.         0.         0.         0.         0.62040039\n",
      "  0.         0.         0.67660644 0.9520575 ]\n",
      " [0.         0.7239964  0.         0.         0.51061293 0.7264284\n",
      "  0.         0.50398368 0.         0.        ]\n",
      " [0.         0.76203406 0.80602616 0.75630562 0.82278849 0.\n",
      "  0.521392   0.         0.         0.        ]\n",
      " [0.94458889 0.         0.         0.         0.51950512 0.\n",
      "  0.60991252 0.94861994 0.50001695 0.        ]\n",
      " [0.57189152 0.         0.         0.72978868 0.         0.62254505\n",
      "  0.         0.72568109 0.         0.72421081]\n",
      " [0.83603753 0.         0.         0.55534316 0.         0.\n",
      "  0.         0.         0.         0.        ]\n",
      " [0.         0.50608471 0.         0.8254959  0.75588935 0.50282504\n",
      "  0.54910135 0.         0.         0.        ]]\n"
     ]
    }
   ],
   "source": [
    "#Posteriormente convertir la matriz booleana a binaria y multiplicar los valores por la matriz\n",
    "#inicial para que queden sólo los valores mayores a .5\n",
    "filtro1 = np.array(matrizbooleana1, dtype = np.int32)\n",
    "print(filtro1)\n",
    "resultado1 = matrizrandom1 * filtro1\n",
    "print(resultado1)\n"
   ]
  },
  {
   "cell_type": "code",
   "execution_count": 10,
   "metadata": {},
   "outputs": [
    {
     "data": {
      "text/plain": [
       "array([0.61964107, 0.58957146, 0.52130266, 0.73572963, 0.67759095,\n",
       "       0.65483052, 0.93978071, 0.81233755, 0.62430523, 0.89799577,\n",
       "       0.52718618, 0.65258786, 0.94085999, 0.6315939 , 0.69858354,\n",
       "       0.53868286, 0.62040039, 0.67660644, 0.9520575 , 0.7239964 ,\n",
       "       0.51061293, 0.7264284 , 0.50398368, 0.76203406, 0.80602616,\n",
       "       0.75630562, 0.82278849, 0.521392  , 0.94458889, 0.51950512,\n",
       "       0.60991252, 0.94861994, 0.50001695, 0.57189152, 0.72978868,\n",
       "       0.62254505, 0.72568109, 0.72421081, 0.83603753, 0.55534316,\n",
       "       0.50608471, 0.8254959 , 0.75588935, 0.50282504, 0.54910135])"
      ]
     },
     "execution_count": 10,
     "metadata": {},
     "output_type": "execute_result"
    }
   ],
   "source": [
    "matrizrandom1[matrizbooleana1]\n"
   ]
  },
  {
   "cell_type": "markdown",
   "metadata": {},
   "source": [
    "Ejemplo 2\n",
    "Producto punto"
   ]
  },
  {
   "cell_type": "code",
   "execution_count": 14,
   "metadata": {},
   "outputs": [
    {
     "name": "stdout",
     "output_type": "stream",
     "text": [
      "[[ 2  5]\n",
      " [ 4 10]]\n",
      "[[ 3  6]\n",
      " [ 6 12]]\n"
     ]
    }
   ],
   "source": [
    "matrizA = np.array([[2,5],[4,10]])\n",
    "matrizB = np.array([[3,6],[6,12]])\n",
    "print(matrizA)\n",
    "print(matrizB)\n"
   ]
  },
  {
   "cell_type": "code",
   "execution_count": 16,
   "metadata": {},
   "outputs": [
    {
     "name": "stdout",
     "output_type": "stream",
     "text": [
      "[[ 36  72]\n",
      " [ 72 144]]\n"
     ]
    }
   ],
   "source": [
    "resultado = np.dot(matrizA, matrizB)\n",
    "print(resultado)\n"
   ]
  },
  {
   "cell_type": "markdown",
   "metadata": {},
   "source": [
    "Ejemplo 3 Función semiverseno"
   ]
  },
  {
   "cell_type": "code",
   "execution_count": null,
   "metadata": {},
   "outputs": [],
   "source": [
    "#Ver formula de semiverseno en pyhton vs numpy\n",
    "#from math import radians, cos, sin, asin, sqrt\n",
    "\n",
    "#def ObtenerDistancia(lat1, lon1, lat2, lon2):\n",
    "    # Convertimos grados a radianes\n",
    "    #lon1, lat1, lon2, lat2 = map(radians, [lon1, lat1, lon2, lat2])\n",
    "\n",
    "    # Formula del semiverseno:\n",
    "    #dlon = lon2 - lon1 \n",
    "    #dlat = lat2 - lat1 \n",
    "    #a = sin(dlat/2)**2 + cos(lat1) * cos(lat2) * sin(dlon/2)**2\n",
    "    #c = 2 * asin(sqrt(a)) \n",
    "    #r = 6371 \n",
    "    #return c * r\n",
    "    \n",
    "    "
   ]
  }
 ],
 "metadata": {
  "kernelspec": {
   "display_name": "Python 3",
   "language": "python",
   "name": "python3"
  },
  "language_info": {
   "codemirror_mode": {
    "name": "ipython",
    "version": 3
   },
   "file_extension": ".py",
   "mimetype": "text/x-python",
   "name": "python",
   "nbconvert_exporter": "python",
   "pygments_lexer": "ipython3",
   "version": "3.8.3"
  }
 },
 "nbformat": 4,
 "nbformat_minor": 4
}
